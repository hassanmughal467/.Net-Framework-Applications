{
 "cells": [
  {
   "cell_type": "markdown",
   "id": "72769407",
   "metadata": {},
   "source": [
    "# Encapsulation\n",
    "\n",
    "- is a protected shield prevent data to accessed outside this shield.\n",
    "- encapsulating data and function into a single unit called class\n",
    "\n",
    "###### To Achieve Encapsulation in c#\n",
    "\n",
    "- declare variable of a class as a private\n",
    "- provide public getter and setter methods or properties to modify and view the variable values.\n",
    "\n",
    "###### Benifits\n",
    "\n",
    "- the fields of a class can be made read only or write only\n",
    "- a class can have total control over what is stored in its fields\n",
    "\n",
    "\n",
    "###### Need of Encapsulation\n",
    "\n",
    "- Is to protect or prevent a data(code) from accidental corruption due to little silly errors that we are all prone ot make."
   ]
  },
  {
   "cell_type": "markdown",
   "id": "d7eede0f",
   "metadata": {},
   "source": [
    "# Properties"
   ]
  },
  {
   "cell_type": "markdown",
   "id": "aa7839a4",
   "metadata": {},
   "source": [
    "- allow you to controlthe accessibilty of a class variables and are recommended way to access variables from the outside class.\n",
    "- "
   ]
  }
 ],
 "metadata": {
  "kernelspec": {
   "display_name": "Python 3 (ipykernel)",
   "language": "python",
   "name": "python3"
  },
  "language_info": {
   "codemirror_mode": {
    "name": "ipython",
    "version": 3
   },
   "file_extension": ".py",
   "mimetype": "text/x-python",
   "name": "python",
   "nbconvert_exporter": "python",
   "pygments_lexer": "ipython3",
   "version": "3.10.2"
  }
 },
 "nbformat": 4,
 "nbformat_minor": 5
}
