{
 "cells": [
  {
   "cell_type": "markdown",
   "id": "4798f878",
   "metadata": {},
   "source": [
    "# Instance Members\n",
    "\n",
    "- Instance members have a separate copy of each and every object of a class.\n",
    "- Instance members belong to a objects of the class\n",
    "\n",
    "# Static Members\n",
    "\n",
    "-"
   ]
  },
  {
   "cell_type": "markdown",
   "id": "2f9c31ed",
   "metadata": {},
   "source": [
    "# Static Constructor\n",
    "\n",
    "- only initialize static variable\n",
    "- only one static constructor can be created in a class\n",
    "- call once only\n",
    "- call before instance constructor(call before instance of the class created)\n",
    "- does not take any parameter or does not use any access modifier\n",
    "- we cannot call static constructor directly... call by CLR"
   ]
  },
  {
   "cell_type": "markdown",
   "id": "641db98d",
   "metadata": {},
   "source": [
    "# Private Constructor\n",
    "\n",
    "\n",
    "- we use it to provide restrictions not to create an object of that class\n",
    "- It is not possible to create child class of that class whihc have private constructor.\n",
    "- object is not possible to create\n",
    "- they usually used in classes that contain static members only"
   ]
  },
  {
   "cell_type": "markdown",
   "id": "624140b1",
   "metadata": {},
   "source": [
    "# Static Class\n",
    "\n",
    "- Object is not intiated and class not inehrited\n",
    "- static class have only static memebrs and methods not instance"
   ]
  }
 ],
 "metadata": {
  "kernelspec": {
   "display_name": "Python 3 (ipykernel)",
   "language": "python",
   "name": "python3"
  },
  "language_info": {
   "codemirror_mode": {
    "name": "ipython",
    "version": 3
   },
   "file_extension": ".py",
   "mimetype": "text/x-python",
   "name": "python",
   "nbconvert_exporter": "python",
   "pygments_lexer": "ipython3",
   "version": "3.10.2"
  }
 },
 "nbformat": 4,
 "nbformat_minor": 5
}
