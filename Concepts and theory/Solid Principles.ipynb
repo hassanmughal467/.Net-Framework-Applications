{
 "cells": [
  {
   "cell_type": "markdown",
   "id": "701d5619",
   "metadata": {},
   "source": [
    "# SOLID\n",
    "\n",
    "Solid Principles are arguably most popular design principles for object oriented software Developement.\n",
    "\n",
    "- SRP => Single Responsible Princicples\n",
    "- OCP => Open closed Principles\n",
    "- Lsp => Liskov Substitution Principles\n",
    "- ISP => Interface Segration principles\n",
    "- DIP => Dependency Inversion Principle\n",
    "\n",
    "\n",
    "\n",
    "#### SRP\n",
    "\n",
    "- Class/Package/component/Api Should have only one and only reason for change. we are doing this due to lose coupling\n",
    "\n",
    "#### OCP\n",
    "\n",
    "- Any Application should be open for extention and closed for modification\n",
    "\n",
    "#### LSP\n",
    "\n",
    "- Child class should be able to substitute Parent class anytime with same behaviour\n",
    "\n",
    "#### IFP\n",
    "\n",
    "- Client should not be forced to implement interface even if it is not required.\n",
    "\n",
    "- Create as small interface as possible.\n",
    "\n",
    "#### DIP \n",
    "\n",
    "- Depend upon interfaces or abstract class rather than concrete classes."
   ]
  },
  {
   "cell_type": "code",
   "execution_count": null,
   "id": "ab0ac56b",
   "metadata": {},
   "outputs": [],
   "source": []
  }
 ],
 "metadata": {
  "kernelspec": {
   "display_name": "Python 3 (ipykernel)",
   "language": "python",
   "name": "python3"
  },
  "language_info": {
   "codemirror_mode": {
    "name": "ipython",
    "version": 3
   },
   "file_extension": ".py",
   "mimetype": "text/x-python",
   "name": "python",
   "nbconvert_exporter": "python",
   "pygments_lexer": "ipython3",
   "version": "3.10.2"
  }
 },
 "nbformat": 4,
 "nbformat_minor": 5
}
